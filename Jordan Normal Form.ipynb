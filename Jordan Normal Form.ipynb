{
 "cells": [
  {
   "cell_type": "code",
   "execution_count": 1,
   "metadata": {},
   "outputs": [],
   "source": [
    "import sympy as sp\n",
    "from IPython.display import display, Math"
   ]
  },
  {
   "cell_type": "code",
   "execution_count": 2,
   "metadata": {
    "scrolled": true
   },
   "outputs": [
    {
     "data": {
      "text/latex": [
       "$\\displaystyle \\left[\\begin{matrix}2 & 0 & 1 & 0\\\\0 & 3 & -1 & 1\\\\0 & -1 & 3 & 0\\\\0 & 0 & 0 & 2\\end{matrix}\\right]$"
      ],
      "text/plain": [
       "Matrix([\n",
       "[2,  0,  1, 0],\n",
       "[0,  3, -1, 1],\n",
       "[0, -1,  3, 0],\n",
       "[0,  0,  0, 2]])"
      ]
     },
     "execution_count": 2,
     "metadata": {},
     "output_type": "execute_result"
    }
   ],
   "source": [
    "# A = sp.Matrix([[1, 0, 1], \\\n",
    "#                [1, 1, 2], \\\n",
    "#                [0, 0, 1]])\n",
    "\n",
    "A = sp.Matrix([[2, 0, 1, 0], \\\n",
    "               [0, 3, -1, 1], \\\n",
    "               [0, -1, 3, 0], \\\n",
    "               [0, 0, 0, 2]])\n",
    "\n",
    "# A = sp.diag(sp.jordan_cell(-3, 3), sp.jordan_cell(-4, 2), 0, 0)\n",
    "dim_A = A.shape[0]\n",
    "A"
   ]
  },
  {
   "cell_type": "code",
   "execution_count": 3,
   "metadata": {},
   "outputs": [],
   "source": [
    "eigv = A.eigenvects()\n",
    "num_eig = len(eigv)\n",
    "eig_vals = [eigv[i][0] for i in range(num_eig)]\n",
    "eig_amult = [eigv[i][1] for i in range(num_eig)]\n",
    "eig_vecs = [eigv[i][2] for i in range(num_eig)]"
   ]
  },
  {
   "cell_type": "code",
   "execution_count": 4,
   "metadata": {
    "scrolled": false
   },
   "outputs": [
    {
     "name": "stdout",
     "output_type": "stream",
     "text": [
      "Eigenvalue: 2, Algebraic Multiplicity: 3\n",
      "Eigenvectors: "
     ]
    },
    {
     "data": {
      "text/latex": [
       "$\\displaystyle \\left[\\begin{matrix}1\\\\0\\\\0\\\\0\\end{matrix}\\right]$"
      ],
      "text/plain": [
       "<IPython.core.display.Math object>"
      ]
     },
     "metadata": {},
     "output_type": "display_data"
    },
    {
     "name": "stdout",
     "output_type": "stream",
     "text": [
      "Eigenvalue: 4, Algebraic Multiplicity: 1\n",
      "Eigenvectors: "
     ]
    },
    {
     "data": {
      "text/latex": [
       "$\\displaystyle \\left[\\begin{matrix}\\frac{1}{2}\\\\-1\\\\1\\\\0\\end{matrix}\\right]$"
      ],
      "text/plain": [
       "<IPython.core.display.Math object>"
      ]
     },
     "metadata": {},
     "output_type": "display_data"
    }
   ],
   "source": [
    "for eig_num in range(num_eig):\n",
    "    print(\"Eigenvalue: {}, Algebraic Multiplicity: {}\".format(eig_vals[eig_num], eig_amult[eig_num]))\n",
    "    print(\"Eigenvectors: \", end=\"\")\n",
    "    display(Math(r', '.join(['{}' for i in range(len(eig_vecs[eig_num]))]).format(*[sp.latex(elem) for elem in eig_vecs[eig_num]])))"
   ]
  },
  {
   "cell_type": "code",
   "execution_count": 5,
   "metadata": {
    "scrolled": false
   },
   "outputs": [
    {
     "name": "stdout",
     "output_type": "stream",
     "text": [
      "Eigenvalue: 2, Algebraic Multiplicity: 3"
     ]
    },
    {
     "data": {
      "text/latex": [
       "$\\displaystyle \\mathcal{N}((A - (2)I)^1) = \\text{span}\\left( \\left[\\begin{matrix}1\\\\0\\\\0\\\\0\\end{matrix}\\right]\\right)$"
      ],
      "text/plain": [
       "<IPython.core.display.Math object>"
      ]
     },
     "metadata": {},
     "output_type": "display_data"
    },
    {
     "data": {
      "text/latex": [
       "$\\displaystyle \\mathcal{N}((A - (2)I)^2) = \\text{span}\\left( \\left[\\begin{matrix}1\\\\0\\\\0\\\\0\\end{matrix}\\right], \\left[\\begin{matrix}0\\\\1\\\\1\\\\0\\end{matrix}\\right]\\right)$"
      ],
      "text/plain": [
       "<IPython.core.display.Math object>"
      ]
     },
     "metadata": {},
     "output_type": "display_data"
    },
    {
     "data": {
      "text/latex": [
       "$\\displaystyle \\mathcal{N}((A - (2)I)^3) = \\text{span}\\left( \\left[\\begin{matrix}1\\\\0\\\\0\\\\0\\end{matrix}\\right], \\left[\\begin{matrix}0\\\\1\\\\1\\\\0\\end{matrix}\\right], \\left[\\begin{matrix}0\\\\- \\frac{1}{2}\\\\0\\\\1\\end{matrix}\\right]\\right)$"
      ],
      "text/plain": [
       "<IPython.core.display.Math object>"
      ]
     },
     "metadata": {},
     "output_type": "display_data"
    },
    {
     "data": {
      "text/latex": [
       "$\\displaystyle r_1=1, r_2=2, r_3=3$"
      ],
      "text/plain": [
       "<IPython.core.display.Math object>"
      ]
     },
     "metadata": {},
     "output_type": "display_data"
    },
    {
     "data": {
      "text/latex": [
       "$\\displaystyle s_1=1, s_2=1, s_3=1$"
      ],
      "text/plain": [
       "<IPython.core.display.Math object>"
      ]
     },
     "metadata": {},
     "output_type": "display_data"
    },
    {
     "data": {
      "text/latex": [
       "$\\displaystyle m_1=0, m_2=0, m_3=1$"
      ],
      "text/plain": [
       "<IPython.core.display.Math object>"
      ]
     },
     "metadata": {},
     "output_type": "display_data"
    },
    {
     "name": "stdout",
     "output_type": "stream",
     "text": [
      "1 Jordan block(s) of size 3\n",
      "-----------------------------------------------------------------\n",
      "Eigenvalue: 4, Algebraic Multiplicity: 1"
     ]
    },
    {
     "data": {
      "text/latex": [
       "$\\displaystyle \\mathcal{N}((A - (4)I)^1) = \\text{span}\\left( \\left[\\begin{matrix}\\frac{1}{2}\\\\-1\\\\1\\\\0\\end{matrix}\\right]\\right)$"
      ],
      "text/plain": [
       "<IPython.core.display.Math object>"
      ]
     },
     "metadata": {},
     "output_type": "display_data"
    },
    {
     "data": {
      "text/latex": [
       "$\\displaystyle r_1=1$"
      ],
      "text/plain": [
       "<IPython.core.display.Math object>"
      ]
     },
     "metadata": {},
     "output_type": "display_data"
    },
    {
     "data": {
      "text/latex": [
       "$\\displaystyle s_1=1$"
      ],
      "text/plain": [
       "<IPython.core.display.Math object>"
      ]
     },
     "metadata": {},
     "output_type": "display_data"
    },
    {
     "data": {
      "text/latex": [
       "$\\displaystyle m_1=1$"
      ],
      "text/plain": [
       "<IPython.core.display.Math object>"
      ]
     },
     "metadata": {},
     "output_type": "display_data"
    },
    {
     "name": "stdout",
     "output_type": "stream",
     "text": [
      "1 Jordan block(s) of size 1\n",
      "-----------------------------------------------------------------\n"
     ]
    }
   ],
   "source": [
    "J_assy = []\n",
    "P_assy = []\n",
    "# For printing the structure of P\n",
    "struct_P = []\n",
    "\n",
    "for eig_num in range(len(eig_vals)):\n",
    "    r = [len(eig_vecs[eig_num])]\n",
    "    g_evecs = {1: eig_vecs[eig_num]}\n",
    "    g_order = 1\n",
    "    g_A = [(A - eig_vals[eig_num]*sp.eye(dim_A))**g_order]\n",
    "    while r[-1] < eig_amult[eig_num]:\n",
    "        g_order += 1\n",
    "        g_A.append(g_A[-1]**g_order)\n",
    "        g_evecs[g_order] = g_A[-1].eigenvects()[0][2]\n",
    "        r.append(len(g_evecs[g_order]))\n",
    "    s = [r[0], *[r[j+1]-r[j] for j in range(len(r)-1)]]\n",
    "    m = [*[s[j]-s[j+1] for j in range(len(r)-1)], s[-1]]\n",
    "    dim_J_blks = [j+1 for j in range(len(m)) for i in range(m[j])]\n",
    "    dim_J_blks.reverse()\n",
    "    \n",
    "    # Printing\n",
    "    print(\"Eigenvalue: {}, Algebraic Multiplicity: {}\".format(eig_vals[eig_num], eig_amult[eig_num]), end=\"\")\n",
    "    for i in range(1, g_order+1):\n",
    "        g_ev_list = ', '.join([sp.latex(ev) for ev in g_evecs[i]])\n",
    "        display(Math(r'\\mathcal{{N}}((A - ({})I)^{}) = \\text{{span}}\\left( {}\\right)'.format(eig_vals[eig_num], i, g_ev_list)))\n",
    "    display(Math(r', '.join(['r_{}={}'.format(j+1, r[j]) for j in range(len(r))])))\n",
    "    display(Math(r', '.join(['s_{}={}'.format(j+1, s[j]) for j in range(len(s))])))\n",
    "    display(Math(r', '.join(['m_{}={}'.format(j+1, m[j]) for j in range(len(m))])))\n",
    "    print(', '.join([\"{} Jordan block(s) of size {}\".format(m[j], j+1) for j in range(len(m)) if m[j] is not 0]))\n",
    "    print(\"-----------------------------------------------------------------\")\n",
    "    \n",
    "    J_blks = [sp.jordan_cell(eig_vals[eig_num], dim) for dim in dim_J_blks]\n",
    "    J_assy.extend(J_blks)\n",
    "    \n",
    "    P_list = []\n",
    "    zero_vec = sp.Matrix([0 for i in range(dim_A)])\n",
    "    \n",
    "    for idx, N in enumerate(dim_J_blks):\n",
    "        temp_P = []\n",
    "        vec_eq = zero_vec\n",
    "        if P_list:\n",
    "            a = sp.symbols('a0:{}'.format(len(P_list)))\n",
    "            vec_eq = sum([a[j]*P_list[j] for j in range(1, len(a))], a[0]*P_list[0])\n",
    "        for vec in g_evecs[N]:\n",
    "            if N is 1:\n",
    "                temp_P.append(vec)\n",
    "                if P_list and sp.solve(vec_eq - temp_P[-1]):\n",
    "                    temp_P = []\n",
    "                    continue\n",
    "                break\n",
    "            if g_A[N-2]*vec != zero_vec:\n",
    "                temp_P.append(vec)\n",
    "                if P_list and sp.solve(vec_eq - temp_P[-1]):\n",
    "                        temp_P = []\n",
    "                else:\n",
    "                    while g_A[0]*temp_P[-1] != zero_vec:\n",
    "                        temp_P.append(g_A[0]*temp_P[-1])\n",
    "                        if sp.solve(vec_eq - temp_P[-1]):\n",
    "                            temp_P = []\n",
    "                            break\n",
    "                if temp_P:\n",
    "                    break\n",
    "        temp_P.reverse()\n",
    "        P_list.extend(temp_P)\n",
    "        \n",
    "        # For printing\n",
    "        struct_P.extend([r'v_{{{}, {} }}^{{{}}}'.format(idx+1, len(temp_P)-(j), eig_vals[eig_num]) for j in range(len(temp_P))])\n",
    "        \n",
    "    P_assy.extend(P_list)"
   ]
  },
  {
   "cell_type": "code",
   "execution_count": 6,
   "metadata": {
    "scrolled": true
   },
   "outputs": [
    {
     "data": {
      "text/latex": [
       "$\\displaystyle J=\\text{diag}\\left(\\left[\\begin{matrix}2 & 1 & 0\\\\0 & 2 & 1\\\\0 & 0 & 2\\end{matrix}\\right], \\left[\\begin{matrix}4\\end{matrix}\\right]\\right)$"
      ],
      "text/plain": [
       "<IPython.core.display.Math object>"
      ]
     },
     "metadata": {},
     "output_type": "display_data"
    }
   ],
   "source": [
    "display(Math(r'J=\\text{{diag}}\\left({}\\right)'.format(', '.join([sp.latex(blk) for blk in J_assy]))))"
   ]
  },
  {
   "cell_type": "code",
   "execution_count": 7,
   "metadata": {
    "scrolled": false
   },
   "outputs": [
    {
     "data": {
      "text/latex": [
       "$\\displaystyle \\left[\\begin{matrix}2 & 1 & 0 & 0\\\\0 & 2 & 1 & 0\\\\0 & 0 & 2 & 0\\\\0 & 0 & 0 & 4\\end{matrix}\\right]$"
      ],
      "text/plain": [
       "Matrix([\n",
       "[2, 1, 0, 0],\n",
       "[0, 2, 1, 0],\n",
       "[0, 0, 2, 0],\n",
       "[0, 0, 0, 4]])"
      ]
     },
     "execution_count": 7,
     "metadata": {},
     "output_type": "execute_result"
    }
   ],
   "source": [
    "J = sp.diag(*J_assy)\n",
    "J"
   ]
  },
  {
   "cell_type": "code",
   "execution_count": 8,
   "metadata": {
    "scrolled": false
   },
   "outputs": [
    {
     "data": {
      "text/latex": [
       "$\\displaystyle P=\\begin{bmatrix}v_{1, 3 }^{2}&v_{1, 2 }^{2}&v_{1, 1 }^{2}&v_{1, 1 }^{4}\\end{bmatrix}$"
      ],
      "text/plain": [
       "<IPython.core.display.Math object>"
      ]
     },
     "metadata": {},
     "output_type": "display_data"
    }
   ],
   "source": [
    "display(Math(r'P=\\begin{{bmatrix}}{}\\end{{bmatrix}}'.format('&'.join(struct_P))))"
   ]
  },
  {
   "cell_type": "code",
   "execution_count": 9,
   "metadata": {
    "scrolled": true
   },
   "outputs": [
    {
     "data": {
      "text/latex": [
       "$\\displaystyle \\left[\\begin{matrix}\\frac{1}{2} & 0 & 0 & \\frac{1}{2}\\\\0 & \\frac{1}{2} & - \\frac{1}{2} & -1\\\\0 & \\frac{1}{2} & 0 & 1\\\\0 & 0 & 1 & 0\\end{matrix}\\right]$"
      ],
      "text/plain": [
       "Matrix([\n",
       "[1/2,   0,    0, 1/2],\n",
       "[  0, 1/2, -1/2,  -1],\n",
       "[  0, 1/2,    0,   1],\n",
       "[  0,   0,    1,   0]])"
      ]
     },
     "execution_count": 9,
     "metadata": {},
     "output_type": "execute_result"
    }
   ],
   "source": [
    "P = sp.Matrix([*[col_P.T for col_P in P_assy]]).T\n",
    "P"
   ]
  },
  {
   "cell_type": "code",
   "execution_count": 10,
   "metadata": {
    "scrolled": true
   },
   "outputs": [
    {
     "data": {
      "text/latex": [
       "$\\displaystyle \\left[\\begin{matrix}2 & 0 & 1 & 0\\\\0 & 3 & -1 & 1\\\\0 & -1 & 3 & 0\\\\0 & 0 & 0 & 2\\end{matrix}\\right]$"
      ],
      "text/plain": [
       "Matrix([\n",
       "[2,  0,  1, 0],\n",
       "[0,  3, -1, 1],\n",
       "[0, -1,  3, 0],\n",
       "[0,  0,  0, 2]])"
      ]
     },
     "execution_count": 10,
     "metadata": {},
     "output_type": "execute_result"
    }
   ],
   "source": [
    "P*J*P.inv()"
   ]
  },
  {
   "cell_type": "code",
   "execution_count": 11,
   "metadata": {
    "scrolled": true
   },
   "outputs": [
    {
     "data": {
      "text/latex": [
       "$\\displaystyle \\left[\\begin{matrix}2 & 0 & 1 & 0\\\\0 & 3 & -1 & 1\\\\0 & -1 & 3 & 0\\\\0 & 0 & 0 & 2\\end{matrix}\\right]$"
      ],
      "text/plain": [
       "Matrix([\n",
       "[2,  0,  1, 0],\n",
       "[0,  3, -1, 1],\n",
       "[0, -1,  3, 0],\n",
       "[0,  0,  0, 2]])"
      ]
     },
     "execution_count": 11,
     "metadata": {},
     "output_type": "execute_result"
    }
   ],
   "source": [
    "A"
   ]
  },
  {
   "cell_type": "code",
   "execution_count": 12,
   "metadata": {},
   "outputs": [
    {
     "data": {
      "text/latex": [
       "$\\displaystyle \\left[\\begin{matrix}-1 & 0 & 0 & 2\\\\0 & -1 & 1 & -1\\\\0 & -1 & 0 & 1\\\\0 & 0 & -2 & 0\\end{matrix}\\right]$"
      ],
      "text/plain": [
       "Matrix([\n",
       "[-1,  0,  0,  2],\n",
       "[ 0, -1,  1, -1],\n",
       "[ 0, -1,  0,  1],\n",
       "[ 0,  0, -2,  0]])"
      ]
     },
     "execution_count": 12,
     "metadata": {},
     "output_type": "execute_result"
    }
   ],
   "source": [
    "P = sp.Matrix([[-1, 0, 0, 2], [0, -1, 1, -1], [0, -1, 0, 1], [0, 0, -2, 0]])\n",
    "P"
   ]
  },
  {
   "cell_type": "code",
   "execution_count": 13,
   "metadata": {
    "scrolled": true
   },
   "outputs": [
    {
     "data": {
      "text/latex": [
       "$\\displaystyle \\left[\\begin{matrix}2 & 1 & 0 & 0\\\\0 & 2 & 1 & 0\\\\0 & 0 & 2 & 0\\\\0 & 0 & 0 & 4\\end{matrix}\\right]$"
      ],
      "text/plain": [
       "Matrix([\n",
       "[2, 1, 0, 0],\n",
       "[0, 2, 1, 0],\n",
       "[0, 0, 2, 0],\n",
       "[0, 0, 0, 4]])"
      ]
     },
     "execution_count": 13,
     "metadata": {},
     "output_type": "execute_result"
    }
   ],
   "source": [
    "J = sp.diag(sp.jordan_cell(2, 3), 4)\n",
    "J"
   ]
  },
  {
   "cell_type": "code",
   "execution_count": 14,
   "metadata": {
    "scrolled": true
   },
   "outputs": [
    {
     "data": {
      "text/latex": [
       "$\\displaystyle \\left[\\begin{matrix}2 & - \\frac{3}{2} & \\frac{5}{2} & - \\frac{3}{4}\\\\0 & 3 & -1 & 1\\\\0 & -1 & 3 & 0\\\\0 & 0 & 0 & 2\\end{matrix}\\right]$"
      ],
      "text/plain": [
       "Matrix([\n",
       "[2, -3/2, 5/2, -3/4],\n",
       "[0,    3,  -1,    1],\n",
       "[0,   -1,   3,    0],\n",
       "[0,    0,   0,    2]])"
      ]
     },
     "execution_count": 14,
     "metadata": {},
     "output_type": "execute_result"
    }
   ],
   "source": [
    "P*J*(P.inv())"
   ]
  }
 ],
 "metadata": {
  "kernelspec": {
   "display_name": "Python 3",
   "language": "python",
   "name": "python3"
  },
  "language_info": {
   "codemirror_mode": {
    "name": "ipython",
    "version": 3
   },
   "file_extension": ".py",
   "mimetype": "text/x-python",
   "name": "python",
   "nbconvert_exporter": "python",
   "pygments_lexer": "ipython3",
   "version": "3.6.9"
  },
  "latex_envs": {
   "LaTeX_envs_menu_present": true,
   "autoclose": true,
   "autocomplete": true,
   "bibliofile": "biblio.bib",
   "cite_by": "apalike",
   "current_citInitial": 1,
   "eqLabelWithNumbers": true,
   "eqNumInitial": 1,
   "hotkeys": {
    "equation": "Ctrl-E",
    "itemize": "Ctrl-I"
   },
   "labels_anchors": false,
   "latex_user_defs": false,
   "report_style_numbering": false,
   "user_envs_cfg": false
  },
  "varInspector": {
   "cols": {
    "lenName": 16,
    "lenType": 16,
    "lenVar": 40
   },
   "kernels_config": {
    "python": {
     "delete_cmd_postfix": "",
     "delete_cmd_prefix": "del ",
     "library": "var_list.py",
     "varRefreshCmd": "print(var_dic_list())"
    },
    "r": {
     "delete_cmd_postfix": ") ",
     "delete_cmd_prefix": "rm(",
     "library": "var_list.r",
     "varRefreshCmd": "cat(var_dic_list()) "
    }
   },
   "types_to_exclude": [
    "module",
    "function",
    "builtin_function_or_method",
    "instance",
    "_Feature"
   ],
   "window_display": false
  }
 },
 "nbformat": 4,
 "nbformat_minor": 2
}
